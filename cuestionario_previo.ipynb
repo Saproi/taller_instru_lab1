{
  "cells": [
    {
      "cell_type": "markdown",
      "id": "a35eeb9f-df70-4ab1-a243-2d2025888eb0",
      "metadata": {},
      "source": [
        "## ¿Qué es ruido de cuantización? ¿Bajo qué circunstancias se podría modelar como ruido activo?\n",
        "\n",
        "El error de cuantización es la técnica de representar una señal analógica con un número digital, en general es la conversión analógica a digital de una señal en específico.\n",
        "\n",
        "## ¿Para una grabación de audio, el piso de ruido de la señal es predominado por el ruido de cuantización o el ruido térmico?\n",
        "\n",
        "Es determinado por el ruido térmico\n",
        "\n",
        "## ¿Cuáles son las tasas de muestreo más populares para grabaciones de auido? ¿La cantidad de bits por muestra?\n",
        "\n",
        "Respuesta"
      ]
    },
    {
      "cell_type": "code",
      "execution_count": null,
      "id": "02e3fb7d",
      "metadata": {
        "vscode": {
          "languageId": "plaintext"
        }
      },
      "outputs": [],
      "source": []
    },
    {
      "cell_type": "markdown",
      "id": "63814a12",
      "metadata": {},
      "source": []
    },
    {
      "cell_type": "markdown",
      "id": "bcc260f6",
      "metadata": {},
      "source": []
    },
    {
      "cell_type": "markdown",
      "id": "0a742266",
      "metadata": {},
      "source": []
    },
    {
      "cell_type": "markdown",
      "id": "96345e9e",
      "metadata": {},
      "source": []
    },
    {
      "cell_type": "code",
      "execution_count": null,
      "id": "7fbffc7a",
      "metadata": {
        "vscode": {
          "languageId": "plaintext"
        }
      },
      "outputs": [],
      "source": []
    },
    {
      "cell_type": "markdown",
      "id": "2807351e",
      "metadata": {},
      "source": []
    }
  ],
  "metadata": {
    "kernelspec": {
      "display_name": "Python (Pyodide)",
      "language": "python",
      "name": "python"
    },
    "language_info": {
      "codemirror_mode": {
        "name": "python",
        "version": 3
      },
      "file_extension": ".py",
      "mimetype": "text/x-python",
      "name": "python",
      "nbconvert_exporter": "python",
      "pygments_lexer": "ipython3",
      "version": "3.8"
    }
  },
  "nbformat": 4,
  "nbformat_minor": 5
}
